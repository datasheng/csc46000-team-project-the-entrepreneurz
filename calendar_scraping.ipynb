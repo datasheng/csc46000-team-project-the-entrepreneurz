{
 "cells": [
  {
   "cell_type": "code",
   "execution_count": null,
   "id": "598f2787",
   "metadata": {},
   "outputs": [],
   "source": [
    "import requests as req\n",
    "import beautifulsoup4 as bs4\n",
    "import pandas as pd\n",
    "\n",
    "url = \"https://www.ccny.cuny.edu/registrar/fall\"\n",
    "\n",
    "\n"
   ]
  }
 ],
 "metadata": {
  "language_info": {
   "name": "python"
  }
 },
 "nbformat": 4,
 "nbformat_minor": 5
}
