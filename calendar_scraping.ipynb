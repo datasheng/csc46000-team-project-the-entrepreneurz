{
 "cells": [
  {
   "cell_type": "code",
   "execution_count": null,
   "id": "598f2787",
   "metadata": {},
   "outputs": [],
   "source": [
    "import requests as req\n",
    "from bs4 import BeautifulSoup\n",
    "import pandas as pd\n",
    "\n",
    "url = \"https://www.ccny.cuny.edu/registrar/fall\"\n",
    "\n",
    "\n"
   ]
  },
  {
   "cell_type": "code",
   "execution_count": null,
   "id": "9388ed1b",
   "metadata": {},
   "outputs": [
    {
     "name": "stdout",
     "output_type": "stream",
     "text": [
      "            DATES                 DAYS  \\\n",
      "0       August 01               Sunday   \n",
      "1       August 18            Wednesday   \n",
      "2       August 24              Tuesday   \n",
      "3       August 25            Wednesday   \n",
      "4  August 25 - 31  Wednesday - Tuesday   \n",
      "\n",
      "                                          Unnamed: 2  \n",
      "0  Application for degree for January and Februar...  \n",
      "1                 Last day to apply for Study Abroad  \n",
      "2  Last day of Registration;  Last day to file eP...  \n",
      "3  Start of Fall Term;  Classes begin;  Initial R...  \n",
      "4          Change of program period; late fees apply  \n"
     ]
    },
    {
     "name": "stderr",
     "output_type": "stream",
     "text": [
      "C:\\Users\\tyler\\AppData\\Local\\Temp\\ipykernel_25520\\4159928752.py:4: FutureWarning: Passing literal html to 'read_html' is deprecated and will be removed in a future version. To read from a literal string, wrap it in a 'StringIO' object.\n",
      "  df = pd.read_html(str(table))[0]\n"
     ]
    }
   ],
   "source": [
    "response = req.get(url)\n",
    "soup = BeautifulSoup(response.content, 'html.parser')\n",
    "table = soup.find('table')\n",
    "df = pd.read_html(str(table))[0]\n",
    "df.to_csv('fall_courses.csv', index=False)"
   ]
  }
 ],
 "metadata": {
  "kernelspec": {
   "display_name": "Python 3",
   "language": "python",
   "name": "python3"
  },
  "language_info": {
   "codemirror_mode": {
    "name": "ipython",
    "version": 3
   },
   "file_extension": ".py",
   "mimetype": "text/x-python",
   "name": "python",
   "nbconvert_exporter": "python",
   "pygments_lexer": "ipython3",
   "version": "3.13.7"
  }
 },
 "nbformat": 4,
 "nbformat_minor": 5
}
